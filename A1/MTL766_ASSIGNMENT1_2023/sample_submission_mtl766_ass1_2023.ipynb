{
  "nbformat": 4,
  "nbformat_minor": 0,
  "metadata": {
    "colab": {
      "provenance": []
    },
    "kernelspec": {
      "name": "python3",
      "display_name": "Python 3"
    },
    "language_info": {
      "name": "python"
    }
  },
  "cells": [
    {
      "cell_type": "markdown",
      "source": [
        "Question: Implement a Python function to generate Fibonacci numbers using a recursive approach. Test the function for different values of n to generate Fibonacci numbers using the recursive approach."
      ],
      "metadata": {
        "id": "TFD-CADmsjVJ"
      }
    },
    {
      "cell_type": "markdown",
      "source": [
        "\n",
        "### Approach:\n",
        "\n",
        "I have used a recursive approach to generate Fibonacci numbers. The base cases are defined for the first two Fibonacci numbers (0 and 1). For any positive integer `n`, the `fibonacci_recursive` function calculates the `n`-th Fibonacci number by recursively summing the (n-1)-th and (n-2)-th Fibonacci numbers.\n"
      ],
      "metadata": {
        "id": "ypv_UxEls7E5"
      }
    },
    {
      "cell_type": "code",
      "execution_count": 1,
      "metadata": {
        "id": "f0rg9BUYsP0q"
      },
      "outputs": [],
      "source": [
        "def fibonacci_recursive(n):\n",
        "    # Base case: 0th Fibonacci number is 0\n",
        "    if n == 0:\n",
        "        return 0\n",
        "    # Base case: 1st Fibonacci number is 1\n",
        "    elif n == 1:\n",
        "        return 1\n",
        "    else:\n",
        "        # Recursive calculation using previous two Fibonacci numbers\n",
        "        return fibonacci_recursive(n - 1) + fibonacci_recursive(n - 2)"
      ]
    },
    {
      "cell_type": "code",
      "source": [
        "# Test the function for different values of n\n",
        "print(\"Fibonacci Number for n=0:\", fibonacci_recursive(0))\n",
        "print(\"Fibonacci Number for n=1:\", fibonacci_recursive(1))\n",
        "print(\"Fibonacci Number for n=5:\", fibonacci_recursive(5))\n",
        "print(\"Fibonacci Number for n=10:\", fibonacci_recursive(10))\n"
      ],
      "metadata": {
        "colab": {
          "base_uri": "https://localhost:8080/"
        },
        "id": "r-YWdr95tQxU",
        "outputId": "6683ce8a-d410-4944-dcf4-ada400d19f0f"
      },
      "execution_count": 2,
      "outputs": [
        {
          "output_type": "stream",
          "name": "stdout",
          "text": [
            "Fibonacci Number for n=0: 0\n",
            "Fibonacci Number for n=1: 1\n",
            "Fibonacci Number for n=5: 5\n",
            "Fibonacci Number for n=10: 55\n"
          ]
        }
      ]
    },
    {
      "cell_type": "markdown",
      "source": [
        "**Note that this example is only to demonstrate the use of markdown and comments. The code and explanations are for illustrative purposes. Your actual code and explanations would be more comprehensive and tailored to the specific question you're solving.**"
      ],
      "metadata": {
        "id": "jKOXOD8KtUzv"
      }
    },
    {
      "cell_type": "code",
      "source": [],
      "metadata": {
        "id": "862jFiAetRyD"
      },
      "execution_count": null,
      "outputs": []
    }
  ]
}